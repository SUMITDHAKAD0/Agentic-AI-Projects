{
  "cells": [
    {
      "cell_type": "code",
      "execution_count": 6,
      "metadata": {
        "id": "BXdLdbAWP0VZ"
      },
      "outputs": [],
      "source": [
        "!pip install -q langchain langchain_core langchain-google-genai langchain_community langgraph"
      ]
    },
    {
      "cell_type": "code",
      "execution_count": 1,
      "metadata": {
        "id": "Kx1tAHLLQGcv"
      },
      "outputs": [],
      "source": [
        "import os\n",
        "from typing import TypedDict, Annotated, List, Dict\n",
        "from langgraph.graph import StateGraph, END\n",
        "from langchain_core.messages import HumanMessage, AIMessage\n",
        "from langchain_core.prompts import ChatPromptTemplate\n",
        "from langchain_google_genai import ChatGoogleGenerativeAI\n",
        "from langchain_core.runnables import RunnableSequence\n",
        "\n",
        "from IPython.display import display, Image, Markdown"
      ]
    },
    {
      "cell_type": "markdown",
      "metadata": {
        "id": "KOgFYKysWpp5"
      },
      "source": [
        "### Load Model"
      ]
    },
    {
      "cell_type": "code",
      "execution_count": 2,
      "metadata": {
        "id": "OG8rPSiDW6up"
      },
      "outputs": [],
      "source": [
        "from google.colab import userdata\n",
        "os.environ[\"GOOGLE_API_KEY\"] = userdata.get('GOOGLE_API_KEY')"
      ]
    },
    {
      "cell_type": "code",
      "execution_count": 9,
      "metadata": {
        "colab": {
          "base_uri": "https://localhost:8080/",
          "height": 604
        },
        "id": "cWHyhIoQWrtF",
        "outputId": "9f681311-2a0c-4a3d-d67e-24966c8a1bbd"
      },
      "outputs": [
        {
          "output_type": "stream",
          "name": "stdout",
          "text": [
            "Gemini Model successfully loaded\n"
          ]
        },
        {
          "output_type": "execute_result",
          "data": {
            "text/plain": [
              "<IPython.core.display.Markdown object>"
            ],
            "text/markdown": "The use cases for agents are incredibly broad and depend heavily on the type of agent being discussed (e.g., software agent, human agent, AI agent).  However, some common themes emerge:\n\n**General Use Cases (applicable across agent types):**\n\n* **Automation:** Agents automate tasks, freeing up human time and resources. This could range from simple tasks like scheduling appointments to complex ones like managing supply chains.\n* **Delegation:** Agents act on behalf of a principal (person or system), carrying out instructions and making decisions within defined parameters.\n* **Coordination:** Agents can coordinate the actions of multiple entities, improving efficiency and collaboration.  This is crucial in complex systems like traffic management or distributed computing.\n* **Information Gathering and Filtering:** Agents can collect and process information from various sources, filtering out irrelevant data and presenting only the essential information to the user.\n* **Decision Making:**  Agents can make decisions based on pre-programmed rules, learned behavior, or a combination of both.  This can range from simple if-then rules to complex machine learning models.\n* **Problem Solving:** Agents can be designed to solve specific problems, such as optimizing resource allocation, finding the shortest route, or diagnosing faults.\n\n\n**Specific Use Cases by Agent Type:**\n\n* **Software Agents (e.g., bots, virtual assistants):**\n    * **Customer service:** Answering questions, resolving issues, and providing support.\n    * **E-commerce:** Recommending products, processing orders, and managing customer accounts.\n    * **Search engines:** Crawling the web, indexing content, and retrieving relevant results.\n    * **Network management:** Monitoring network performance, detecting anomalies, and resolving issues.\n    * **Data analysis:** Collecting, cleaning, and analyzing data to identify trends and insights.\n    * **Game playing:** Playing games against humans or other agents.\n\n* **AI Agents (e.g., reinforcement learning agents, multi-agent systems):**\n    * **Robotics:** Controlling robots in various environments, such as factories, warehouses, and homes.\n    * **Autonomous vehicles:** Navigating roads and making driving decisions.\n    * **Personalized medicine:** Developing treatment plans based on individual patient data.\n    * **Financial modeling:** Predicting market trends and making investment decisions.\n    * **Scientific discovery:** Analyzing data and formulating hypotheses.\n\n* **Human Agents (e.g., customer service representatives, real estate agents):**\n    * **Sales and"
          },
          "metadata": {},
          "execution_count": 9
        }
      ],
      "source": [
        "def load_gemini_model():\n",
        "    try:\n",
        "        model = ChatGoogleGenerativeAI(model=\"gemini-1.5-flash\",\n",
        "                            temperature=0.1,\n",
        "                            # convert_system_message_to_human=True,\n",
        "                            max_tokens=512,\n",
        "                            timeout=None,\n",
        "                            max_retries=2,\n",
        "                            top_k=90,\n",
        "                            top_p=0.5\n",
        "                        )\n",
        "        print('Gemini Model successfully loaded')\n",
        "        return model\n",
        "    except Exception as e:\n",
        "        print(f'Error loading Gemini Model: {str(e)}')\n",
        "        raise\n",
        "\n",
        "model = load_gemini_model()\n",
        "Markdown(model.invoke('what is the use case of agents').content)"
      ]
    },
    {
      "cell_type": "markdown",
      "metadata": {
        "id": "CQlsgPgWV-vd"
      },
      "source": [
        "### Defining Message State"
      ]
    },
    {
      "cell_type": "code",
      "execution_count": 10,
      "metadata": {
        "id": "RNjuGoWlV4nE"
      },
      "outputs": [],
      "source": [
        "class StateSupport(TypedDict):\n",
        "    query: str\n",
        "    category: str\n",
        "    sentiment: str\n",
        "    response: str"
      ]
    },
    {
      "cell_type": "markdown",
      "metadata": {
        "id": "SZ9SKGwkWY5D"
      },
      "source": [
        "### Define Nodes/Tools"
      ]
    },
    {
      "cell_type": "code",
      "execution_count": 31,
      "metadata": {
        "id": "PYzvmcPdWXc-"
      },
      "outputs": [],
      "source": [
        "def categorize_query_tool(state: StateSupport) -> StateSupport:\n",
        "    \"Technical, Billing, General\"\n",
        "    category_prompt = ChatPromptTemplate.from_template(\n",
        "        \"Categorize the following customer query into one of these categories: \"\n",
        "        \"Technical, Billing, General. Query: {query}\"\n",
        "    )\n",
        "\n",
        "    category_chain = RunnableSequence(category_prompt | model)\n",
        "    category = category_chain.invoke({'query' : state['query']}).content\n",
        "\n",
        "    return {\n",
        "          **state,\n",
        "          \"category\": category,\n",
        "      }\n",
        "\n",
        "\n",
        "def analyze_sentiment_tool(state: StateSupport) -> StateSupport:\n",
        "    sentiment_promt = ChatPromptTemplate.from_template(\n",
        "        \"Analyze the sentiment of the following customer query\"\n",
        "        \"Response with either 'Position', 'Neutral' , or 'Negative'. Query: {query}\"\n",
        "    )\n",
        "\n",
        "    sentiment_chain = RunnableSequence(sentiment_promt | model)\n",
        "    sentiment = sentiment_chain.invoke({'query' : state['query']}).content\n",
        "    return {\n",
        "        **state,\n",
        "        \"sentiment\": sentiment\n",
        "    }\n",
        "\n",
        "\n",
        "def technical_tool(state: StateSupport) -> StateSupport:\n",
        "    technical_prpmpt = ChatPromptTemplate.from_template(\n",
        "        \"Provide a technical support response to the following query : {query}\"\n",
        "    )\n",
        "\n",
        "    technical_chain = RunnableSequence(technical_prpmpt | model)\n",
        "    technical_response = technical_chain.invoke({\"query\" : state['query']}).content\n",
        "    return {\n",
        "        **state,\n",
        "        \"response\" : technical_response\n",
        "    }\n",
        "\n",
        "\n",
        "def billing_tool(state: StateSupport) -> StateSupport:\n",
        "    billing_prompt = ChatPromptTemplate.from_template(\n",
        "        \"Provide a billing support response to the following query : {query}\"\n",
        "    )\n",
        "    billing_chain = RunnableSequence(billing_prompt | model)\n",
        "    billing_response = billing_chain.invoke({\"query\" : state['query']}).content\n",
        "    return {\n",
        "        **state,\n",
        "        \"response\": billing_response\n",
        "    }\n",
        "\n",
        "\n",
        "def general_tool(state: StateSupport) -> StateSupport:\n",
        "    general_prompt = ChatPromptTemplate.from_template(\n",
        "        \"Provide a general support response to the following query : {query}\"\n",
        "    )\n",
        "    general_chain = RunnableSequence(general_prompt | model)\n",
        "    general_response = general_chain.invoke({\"query\" : state['query']}).content\n",
        "    return{\n",
        "        **state,\n",
        "        \"response\" : general_response\n",
        "    }\n",
        "\n",
        "\n",
        "def escalate(state: StateSupport) -> StateSupport:\n",
        "    return {\"response\": \"This query has been escalate to a human agent due to its negative sentiment\"}\n",
        "\n",
        "\n",
        "def router_query_tool(state : StateSupport) -> StateSupport:\n",
        "    if state['sentiment'].lower() == \"negative\":\n",
        "        return \"Escalate_Node\"\n",
        "    if state['category'].lower() == \"general\":\n",
        "        return \"General_Node\"\n",
        "    if state['category'].lower() == \"billing\":\n",
        "        return \"Billing_Node\"\n",
        "    if state['category'].lower() == \"technical\":\n",
        "        return \"Technical_Node\""
      ]
    },
    {
      "cell_type": "code",
      "source": [
        "# testing Node workflow\n",
        "\n",
        "test_state = {\n",
        "        \"query\": \"I can't log into my account.\",\n",
        "        \"category\": \"\",\n",
        "        \"sentiment\": \"\",\n",
        "        \"response\": \"\",\n",
        "    }\n",
        "\n",
        "updated_state = categorize_query_tool(test_state)\n",
        "print(updated_state)\n",
        "\n",
        "\n",
        "updated_state = analyze_sentiment_tool(updated_state)\n",
        "print(updated_state)\n",
        "\n",
        "updated_state = technical_tool(updated_state)\n",
        "print(updated_state)"
      ],
      "metadata": {
        "colab": {
          "base_uri": "https://localhost:8080/"
        },
        "id": "wkMGS3A9XpBV",
        "outputId": "759d4b30-1689-409c-cd6d-c0375d50f183"
      },
      "execution_count": 45,
      "outputs": [
        {
          "output_type": "stream",
          "name": "stdout",
          "text": [
            "{'query': \"I can't log into my account.\", 'category': 'Technical', 'sentiment': '', 'response': ''}\n",
            "{'query': \"I can't log into my account.\", 'category': 'Technical', 'sentiment': 'Negative', 'response': ''}\n",
            "{'query': \"I can't log into my account.\", 'category': 'Technical', 'sentiment': 'Negative', 'response': \"I understand you're having trouble logging into your account.  To help me assist you, please provide me with some more information:\\n\\n* **What is the exact error message you are receiving, if any?** (Please copy and paste the message verbatim.)\\n* **What type of account is this?** (e.g., email, online banking, gaming account, social media, etc.)  This helps me understand the specific system involved.\\n* **What method are you using to log in?** (e.g., website, mobile app, desktop app)\\n* **Have you tried resetting your password?** If so, did you receive a password reset email/link?  If not, please check your spam/junk folder.\\n* **What browser and operating system are you using?** (e.g., Chrome on Windows 10, Safari on iOS 16)\\n* **Are you using a VPN or proxy server?**\\n\\nOnce I have this information, I can provide more specific and helpful troubleshooting steps.\"}\n"
          ]
        }
      ]
    },
    {
      "cell_type": "markdown",
      "source": [
        "### Define Graph"
      ],
      "metadata": {
        "id": "HJ394_b7_3rS"
      }
    },
    {
      "cell_type": "code",
      "execution_count": 69,
      "metadata": {
        "id": "1VvZ52tUcNIC"
      },
      "outputs": [],
      "source": [
        "graph = StateGraph(StateSupport)\n",
        "\n",
        "# create nodes\n",
        "graph.add_node('Categorize_Node', categorize_query_tool)\n",
        "graph.add_node('Sentiment_Node', analyze_sentiment_tool)\n",
        "graph.add_node('Technical_Node', technical_tool)\n",
        "graph.add_node('Billing_Node', billing_tool)\n",
        "graph.add_node('General_Node', general_tool)\n",
        "graph.add_node('Escalate_Node', escalate)\n",
        "\n",
        "# create entry node\n",
        "graph.set_entry_point('Categorize_Node')\n",
        "\n",
        "# create edges\n",
        "graph.add_edge('Categorize_Node', 'Sentiment_Node')\n",
        "\n",
        "graph.add_conditional_edges(\n",
        "    'Sentiment_Node',\n",
        "    router_query_tool,\n",
        "     {\n",
        "        'Technical_Node' : 'Technical_Node',\n",
        "        'Billing_Node' : 'Billing_Node',\n",
        "        'General_Node' : 'General_Node',\n",
        "        'Escalate_Node' : 'Escalate_Node'\n",
        "    }\n",
        ")\n",
        "\n",
        "graph.add_edge('Technical_Node', END)\n",
        "graph.add_edge('Billing_Node', END)\n",
        "graph.add_edge('General_Node', END)\n",
        "graph.add_edge('Escalate_Node', END)\n",
        "\n",
        "\n",
        "app = graph.compile()\n"
      ]
    },
    {
      "cell_type": "code",
      "execution_count": 70,
      "metadata": {
        "colab": {
          "base_uri": "https://localhost:8080/",
          "height": 449
        },
        "id": "Eu2qQI_vbQ5k",
        "outputId": "d01d1347-daba-4759-ccd2-6cff0b8f1e1c"
      },
      "outputs": [
        {
          "output_type": "display_data",
          "data": {
            "image/png": "[encoded data removed]",
            "text/plain": [
              "<IPython.core.display.Image object>"
            ]
          },
          "metadata": {}
        }
      ],
      "source": [
        "display(Image(app.get_graph().draw_mermaid_png()))"
      ]
    },
    {
      "cell_type": "code",
      "source": [
        "# for app.invoke({'query' : 'what is whether in india'})\n",
        "state = {\n",
        "      \"query\": \"what is whether in india\",\n",
        "      \"category\": \"\",\n",
        "      \"sentiment\": \"\",\n",
        "      \"response\": \"\",\n",
        "  }\n",
        "for output in app.stream(state):\n",
        "  print(output)"
      ],
      "metadata": {
        "colab": {
          "base_uri": "https://localhost:8080/"
        },
        "id": "ZuV2MHffaebR",
        "outputId": "198b7772-dde3-4191-d7e3-7df65d460f9a"
      },
      "execution_count": 71,
      "outputs": [
        {
          "output_type": "stream",
          "name": "stdout",
          "text": [
            "{'Categorize_Node': {'query': 'what is whether in india', 'category': 'General', 'sentiment': '', 'response': ''}}\n",
            "{'Sentiment_Node': {'query': 'what is whether in india', 'category': 'General', 'sentiment': 'Neutral.  The query is a factual question, not expressing positive or negative sentiment.', 'response': ''}}\n",
            "{'General_Node': {'query': 'what is whether in india', 'category': 'General', 'sentiment': 'Neutral.  The query is a factual question, not expressing positive or negative sentiment.', 'response': 'The word \"whether\" in India, as in the rest of the English-speaking world, is a conjunction used to introduce a choice between alternatives.  It\\'s used in questions and clauses to present options.  There\\'s nothing specific to India regarding its meaning or usage.  It functions identically in Indian English as it does in other varieties of English.'}}\n"
          ]
        }
      ]
    },
    {
      "cell_type": "markdown",
      "source": [
        "### Run App"
      ],
      "metadata": {
        "id": "c8uoQYdPYe9y"
      }
    },
    {
      "cell_type": "code",
      "source": [
        "def run_agent(query : str) -> Dict[str, str]:\n",
        "    response = app.invoke({'query' : query})\n",
        "    return {\n",
        "        \"query\"     : response['query'],\n",
        "        \"category\"  : response['category'],\n",
        "        \"sentiment\" : response['sentiment'],\n",
        "        \"response\"  : response['response']\n",
        "    }"
      ],
      "metadata": {
        "id": "IkQKke4sYbMO"
      },
      "execution_count": 72,
      "outputs": []
    },
    {
      "cell_type": "code",
      "source": [
        "\n",
        "query = \"My internet connection is gone it's not working, Can you help me?\"\n",
        "result = run_agent(query)\n",
        "print(f\"Query: {result['query']}\")\n",
        "print(f\"Category: {result['category']}\")\n",
        "print(f\"Sentiment: {result['sentiment']}\")\n",
        "print(f\"Response: {result['response']}\")\n",
        "print(\"\\n\")\n",
        ""
      ],
      "metadata": {
        "colab": {
          "base_uri": "https://localhost:8080/"
        },
        "id": "0G_f209xYbJe",
        "outputId": "fab2db4a-7e45-4600-c45f-b03769b41979"
      },
      "execution_count": 73,
      "outputs": [
        {
          "output_type": "stream",
          "name": "stdout",
          "text": [
            "Query: My internet connection is gone it's not working, Can you help me?\n",
            "Category: Technical\n",
            "Sentiment: Negative\n",
            "Response: This query has been escalate to a human agent due to its negative sentiment\n",
            "\n",
            "\n"
          ]
        }
      ]
    },
    {
      "cell_type": "code",
      "source": [
        "query = \"where can i find my receipt\"\n",
        "result = run_agent(query)\n",
        "print(f\"Query: {query}\")\n",
        "print(f\"Category: {result['category']}\")\n",
        "print(f\"Sentiment: {result['sentiment']}\")\n",
        "print(f\"Response:\")\n",
        "Markdown(result['response'])"
      ],
      "metadata": {
        "colab": {
          "base_uri": "https://localhost:8080/",
          "height": 302
        },
        "id": "ezAuHqvhYbGp",
        "outputId": "a18f45bd-2aa3-454f-b8ce-876777f05cce"
      },
      "execution_count": 81,
      "outputs": [
        {
          "output_type": "stream",
          "name": "stdout",
          "text": [
            "Query: where can i find my receipt\n",
            "Category: Billing\n",
            "Sentiment: Neutral.  The query is simply a request for information; it doesn't express positive or negative sentiment.\n",
            "Response:\n"
          ]
        },
        {
          "output_type": "execute_result",
          "data": {
            "text/plain": [
              "<IPython.core.display.Markdown object>"
            ],
            "text/markdown": "Several options are available to locate your receipt, depending on how you made your purchase:\n\n* **Online Account:** If you created an account with us, you can usually find your receipts in your online account history.  Log in at [link to your website's account login page] and navigate to your order history or billing section.\n\n* **Email Confirmation:** Check your email inbox for a confirmation email from us.  This email often includes a copy of your receipt. Search your inbox for emails from [your company email address].\n\n* **Previous Statements:** If you're looking for a receipt from a previous billing cycle, you may find it in a past statement.  [Explain how to access past statements, e.g., \"You can download past statements from your online account,\" or \"We can send you a copy of your statement if you provide your account number.\"].\n\n* **Contact Us:** If you're still unable to locate your receipt, please contact us directly at [phone number] or [email address] with your account number or order number, and we'll be happy to assist you.\n\n\nWe appreciate your patience."
          },
          "metadata": {},
          "execution_count": 81
        }
      ]
    },
    {
      "cell_type": "code",
      "source": [],
      "metadata": {
        "id": "kAyUn67Penjl"
      },
      "execution_count": 81,
      "outputs": []
    },
    {
      "cell_type": "code",
      "execution_count": null,
      "metadata": {
        "id": "Tqq3u7zUb4vz"
      },
      "outputs": [],
      "source": [
        "# https://github.com/Chando0185/Multiverse_of_100-_data_science_project_series/blob/main/Customer%20Support%20Agent/Customer_Support_Agent_GENAI.ipynb"
      ]
    },
    {
      "cell_type": "markdown",
      "source": [
        "# Gradio App"
      ],
      "metadata": {
        "id": "EMgPFA5lgE-e"
      }
    },
    {
      "cell_type": "code",
      "source": [
        "!pip install -q gradio streamlit"
      ],
      "metadata": {
        "colab": {
          "base_uri": "https://localhost:8080/"
        },
        "id": "sbSsH1cNIO-J",
        "outputId": "a06c53bf-f837-408d-ec3b-dc5c02d88138"
      },
      "execution_count": 9,
      "outputs": [
        {
          "output_type": "stream",
          "name": "stdout",
          "text": [
            "\u001b[2K     \u001b[90m━━━━━━━━━━━━━━━━━━━━━━━━━━━━━━━━━━━━━━━━\u001b[0m \u001b[32m44.3/44.3 kB\u001b[0m \u001b[31m1.9 MB/s\u001b[0m eta \u001b[36m0:00:00\u001b[0m\n",
            "\u001b[2K   \u001b[90m━━━━━━━━━━━━━━━━━━━━━━━━━━━━━━━━━━━━━━━━\u001b[0m \u001b[32m9.6/9.6 MB\u001b[0m \u001b[31m63.3 MB/s\u001b[0m eta \u001b[36m0:00:00\u001b[0m\n",
            "\u001b[2K   \u001b[90m━━━━━━━━━━━━━━━━━━━━━━━━━━━━━━━━━━━━━━━━\u001b[0m \u001b[32m6.9/6.9 MB\u001b[0m \u001b[31m70.4 MB/s\u001b[0m eta \u001b[36m0:00:00\u001b[0m\n",
            "\u001b[2K   \u001b[90m━━━━━━━━━━━━━━━━━━━━━━━━━━━━━━━━━━━━━━━━\u001b[0m \u001b[32m79.1/79.1 kB\u001b[0m \u001b[31m5.7 MB/s\u001b[0m eta \u001b[36m0:00:00\u001b[0m\n",
            "\u001b[?25h"
          ]
        }
      ]
    },
    {
      "cell_type": "code",
      "source": [
        "import os\n",
        "import gradio as gr\n",
        "from typing import TypedDict, Annotated, List, Dict\n",
        "from langgraph.graph import StateGraph, END\n",
        "from langchain_core.messages import HumanMessage, AIMessage\n",
        "from langchain_core.prompts import ChatPromptTemplate\n",
        "from langchain_google_genai import ChatGoogleGenerativeAI\n",
        "from langchain_core.runnables import RunnableSequence\n",
        "\n",
        "from IPython.display import display, Image, Markdown\n",
        "\n",
        "\n",
        "def load_gemini_model():\n",
        "    try:\n",
        "        model = ChatGoogleGenerativeAI(model=\"gemini-1.5-flash\",\n",
        "                            temperature=0.1,\n",
        "                            # convert_system_message_to_human=True,\n",
        "                            max_tokens=512,\n",
        "                            timeout=None,\n",
        "                            max_retries=2,\n",
        "                            top_k=90,\n",
        "                            top_p=0.5\n",
        "                        )\n",
        "        print('Gemini Model successfully loaded')\n",
        "        return model\n",
        "    except Exception as e:\n",
        "        print(f'Error loading Gemini Model: {str(e)}')\n",
        "        raise\n",
        "\n",
        "model = load_gemini_model()\n",
        "\n",
        "\n",
        "class StateSupport(TypedDict):\n",
        "    query: str\n",
        "    category: str\n",
        "    sentiment: str\n",
        "    response: str\n",
        "\n",
        "\n",
        "def categorize_query_tool(state: StateSupport) -> StateSupport:\n",
        "    \"Technical, Billing, General\"\n",
        "    category_prompt = ChatPromptTemplate.from_template(\n",
        "        \"Categorize the following customer query into one of these categories: \"\n",
        "        \"Technical, Billing, General. Query: {query}\"\n",
        "    )\n",
        "\n",
        "    category_chain = RunnableSequence(category_prompt | model)\n",
        "    category = category_chain.invoke({'query' : state['query']}).content\n",
        "\n",
        "    return {\n",
        "          **state,\n",
        "          \"category\": category,\n",
        "      }\n",
        "\n",
        "\n",
        "def analyze_sentiment_tool(state: StateSupport) -> StateSupport:\n",
        "    sentiment_promt = ChatPromptTemplate.from_template(\n",
        "        \"Analyze the sentiment of the following customer query\"\n",
        "        \"Response with either 'Position', 'Neutral' , or 'Negative'. Query: {query}\"\n",
        "    )\n",
        "\n",
        "    sentiment_chain = RunnableSequence(sentiment_promt | model)\n",
        "    sentiment = sentiment_chain.invoke({'query' : state['query']}).content\n",
        "    return {\n",
        "        **state,\n",
        "        \"sentiment\": sentiment\n",
        "    }\n",
        "\n",
        "\n",
        "def technical_tool(state: StateSupport) -> StateSupport:\n",
        "    technical_prpmpt = ChatPromptTemplate.from_template(\n",
        "        \"Provide a technical support response to the following query : {query}\"\n",
        "    )\n",
        "\n",
        "    technical_chain = RunnableSequence(technical_prpmpt | model)\n",
        "    technical_response = technical_chain.invoke({\"query\" : state['query']}).content\n",
        "    return {\n",
        "        **state,\n",
        "        \"response\" : technical_response\n",
        "    }\n",
        "\n",
        "\n",
        "def billing_tool(state: StateSupport) -> StateSupport:\n",
        "    billing_prompt = ChatPromptTemplate.from_template(\n",
        "        \"Provide a billing support response to the following query : {query}\"\n",
        "    )\n",
        "    billing_chain = RunnableSequence(billing_prompt | model)\n",
        "    billing_response = billing_chain.invoke({\"query\" : state['query']}).content\n",
        "    return {\n",
        "        **state,\n",
        "        \"response\": billing_response\n",
        "    }\n",
        "\n",
        "\n",
        "def general_tool(state: StateSupport) -> StateSupport:\n",
        "    general_prompt = ChatPromptTemplate.from_template(\n",
        "        \"Provide a general support response to the following query : {query}\"\n",
        "    )\n",
        "    general_chain = RunnableSequence(general_prompt | model)\n",
        "    general_response = general_chain.invoke({\"query\" : state['query']}).content\n",
        "    return{\n",
        "        **state,\n",
        "        \"response\" : general_response\n",
        "    }\n",
        "\n",
        "\n",
        "def escalate(state: StateSupport) -> StateSupport:\n",
        "    return {\"response\": \"This query has been escalate to a human agent due to its negative sentiment\"}\n",
        "\n",
        "\n",
        "def router_query_tool(state : StateSupport) -> StateSupport:\n",
        "    if state['sentiment'].lower() == \"negative\":\n",
        "        return \"Escalate_Node\"\n",
        "    if state['category'].lower() == \"general\":\n",
        "        return \"General_Node\"\n",
        "    if state['category'].lower() == \"billing\":\n",
        "        return \"Billing_Node\"\n",
        "    if state['category'].lower() == \"technical\":\n",
        "        return \"Technical_Node\"\n",
        "\n",
        "\n",
        "\n",
        "graph = StateGraph(StateSupport)\n",
        "\n",
        "# create nodes\n",
        "graph.add_node('Categorize_Node', categorize_query_tool)\n",
        "graph.add_node('Sentiment_Node', analyze_sentiment_tool)\n",
        "graph.add_node('Technical_Node', technical_tool)\n",
        "graph.add_node('Billing_Node', billing_tool)\n",
        "graph.add_node('General_Node', general_tool)\n",
        "graph.add_node('Escalate_Node', escalate)\n",
        "\n",
        "# create entry node\n",
        "graph.set_entry_point('Categorize_Node')\n",
        "\n",
        "# create edges\n",
        "graph.add_edge('Categorize_Node', 'Sentiment_Node')\n",
        "\n",
        "graph.add_conditional_edges(\n",
        "    'Sentiment_Node',\n",
        "    router_query_tool,\n",
        "     {\n",
        "        'Technical_Node' : 'Technical_Node',\n",
        "        'Billing_Node' : 'Billing_Node',\n",
        "        'General_Node' : 'General_Node',\n",
        "        'Escalate_Node' : 'Escalate_Node'\n",
        "    }\n",
        ")\n",
        "\n",
        "graph.add_edge('Technical_Node', END)\n",
        "graph.add_edge('Billing_Node', END)\n",
        "graph.add_edge('General_Node', END)\n",
        "graph.add_edge('Escalate_Node', END)\n",
        "\n",
        "app = graph.compile()\n",
        "\n",
        "\n",
        "\n",
        "# Function to simulate AI response (Replace with actual API call)\n",
        "def run_agent(query: str) -> Dict[str, str]:\n",
        "    \"\"\"Invoke the AI agent and return structured results.\"\"\"\n",
        "    try:\n",
        "        response = app.invoke({'query': query})  # Replace 'app.invoke' with your AI logic\n",
        "        return {\n",
        "            \"query\": response.get(\"query\", \"\"),\n",
        "            \"category\": response.get(\"category\", \"Unknown\"),\n",
        "            \"sentiment\": response.get(\"sentiment\", \"Neutral\"),\n",
        "            \"response\": response.get(\"response\", \"No response available.\"),\n",
        "        }\n",
        "    except Exception as e:\n",
        "        return {\n",
        "            \"query\": query,\n",
        "            \"category\": \"Error\",\n",
        "            \"sentiment\": \"Error\",\n",
        "            \"response\": f\"An error occurred: {str(e)}\",\n",
        "        }\n",
        "\n",
        "# Function to process query and display formatted response\n",
        "def gradio_interface(query: str) -> str:\n",
        "    result = run_agent(query)\n",
        "\n",
        "    return f\"\"\"\n",
        "    <div style=\"\n",
        "        border-left: 5px solid #f39c12;\n",
        "        padding: 15px;\n",
        "        background-color: #fff;\n",
        "        border-radius: 8px;\n",
        "        color: black;\n",
        "        font-size: 16px;\">\n",
        "        <p><strong>🗂 Category:</strong> {result['category']}</p>\n",
        "        <p><strong>📊 Sentiment:</strong> {result['sentiment']}</p>\n",
        "        <p><strong>💬 Response:</strong> {result['response']}</p>\n",
        "    </div>\n",
        "    \"\"\"\n",
        "\n",
        "# Create Gradio UI with improved styling\n",
        "gui = gr.Interface(\n",
        "    fn=gradio_interface,\n",
        "    theme=\"default\",  # ✅ Keeps standard contrast\n",
        "    inputs=gr.Textbox(lines=2, placeholder=\"Enter your support query...\"),\n",
        "    outputs=gr.HTML(),\n",
        "    title=\"🛠 AI Customer Support Assistant\",\n",
        "    description=\"\"\"\n",
        "    🔹 Enter your query, and the AI assistant will:\n",
        "    - Categorize your request (Technical, Billing, General, etc.)\n",
        "    - Analyze the sentiment (Positive, Negative, Neutral)\n",
        "    - Provide a response based on its analysis\n",
        "    \"\"\",\n",
        "    allow_flagging=\"never\",\n",
        ")\n",
        "\n",
        "# Launch the app\n",
        "if __name__ == \"__main__\":\n",
        "    gui.launch(debug=True)"
      ],
      "metadata": {
        "colab": {
          "base_uri": "https://localhost:8080/",
          "height": 732
        },
        "id": "Wqe6_H2Kdtd2",
        "outputId": "1eb28be7-c321-41dc-f61a-545aaa303dff"
      },
      "execution_count": 9,
      "outputs": [
        {
          "output_type": "stream",
          "name": "stdout",
          "text": [
            "Gemini Model successfully loaded\n"
          ]
        },
        {
          "output_type": "stream",
          "name": "stderr",
          "text": [
            "/usr/local/lib/python3.11/dist-packages/gradio/interface.py:403: UserWarning: The `allow_flagging` parameter in `Interface` is deprecated.Use `flagging_mode` instead.\n",
            "  warnings.warn(\n"
          ]
        },
        {
          "output_type": "stream",
          "name": "stdout",
          "text": [
            "Running Gradio in a Colab notebook requires sharing enabled. Automatically setting `share=True` (you can turn this off by setting `share=False` in `launch()` explicitly).\n",
            "\n",
            "Colab notebook detected. This cell will run indefinitely so that you can see errors and logs. To turn off, set debug=False in launch().\n",
            "* Running on public URL: https://7210999b366fc569f4.gradio.live\n",
            "\n",
            "This share link expires in 72 hours. For free permanent hosting and GPU upgrades, run `gradio deploy` from the terminal in the working directory to deploy to Hugging Face Spaces (https://huggingface.co/spaces)\n"
          ]
        },
        {
          "output_type": "display_data",
          "data": {
            "text/plain": [
              "<IPython.core.display.HTML object>"
            ],
            "text/html": [
              "<div><iframe src=\"https://7210999b366fc569f4.gradio.live\" width=\"100%\" height=\"500\" allow=\"autoplay; camera; microphone; clipboard-read; clipboard-write;\" frameborder=\"0\" allowfullscreen></iframe></div>"
            ]
          },
          "metadata": {}
        },
        {
          "output_type": "stream",
          "name": "stdout",
          "text": [
            "Keyboard interruption in main thread... closing server.\n",
            "Killing tunnel 127.0.0.1:7860 <> https://7210999b366fc569f4.gradio.live\n"
          ]
        }
      ]
    },
    {
      "cell_type": "code",
      "source": [],
      "metadata": {
        "id": "OHeV1SixhV6p"
      },
      "execution_count": null,
      "outputs": []
    },
    {
      "cell_type": "markdown",
      "source": [
        "# Streamlit App"
      ],
      "metadata": {
        "id": "nbKBODdssjVd"
      }
    },
    {
      "cell_type": "code",
      "source": [
        "%%writefile app.py\n",
        "\n",
        "\n",
        "import os\n",
        "# import gradio as gr\n",
        "import streamlit as st\n",
        "from typing import TypedDict, Annotated, List, Dict\n",
        "from langgraph.graph import StateGraph, END\n",
        "from langchain_core.messages import HumanMessage, AIMessage\n",
        "from langchain_core.prompts import ChatPromptTemplate\n",
        "from langchain_google_genai import ChatGoogleGenerativeAI\n",
        "from langchain_core.runnables import RunnableSequence\n",
        "\n",
        "from IPython.display import display, Image, Markdown\n",
        "\n",
        "\n",
        "def load_gemini_model():\n",
        "    try:\n",
        "        model = ChatGoogleGenerativeAI(model=\"gemini-1.5-flash\",\n",
        "                            temperature=0.1,\n",
        "                            # convert_system_message_to_human=True,\n",
        "                            max_tokens=512,\n",
        "                            timeout=None,\n",
        "                            max_retries=2,\n",
        "                            top_k=90,\n",
        "                            top_p=0.5\n",
        "                        )\n",
        "        print('Gemini Model successfully loaded')\n",
        "        return model\n",
        "    except Exception as e:\n",
        "        print(f'Error loading Gemini Model: {str(e)}')\n",
        "        raise\n",
        "\n",
        "model = load_gemini_model()\n",
        "\n",
        "\n",
        "class StateSupport(TypedDict):\n",
        "    query: str\n",
        "    category: str\n",
        "    sentiment: str\n",
        "    response: str\n",
        "\n",
        "\n",
        "def categorize_query_tool(state: StateSupport) -> StateSupport:\n",
        "    \"Technical, Billing, General\"\n",
        "    category_prompt = ChatPromptTemplate.from_template(\n",
        "        \"Categorize the following customer query into one of these categories: \"\n",
        "        \"Technical, Billing, General. Query: {query}\"\n",
        "    )\n",
        "\n",
        "    category_chain = RunnableSequence(category_prompt | model)\n",
        "    category = category_chain.invoke({'query' : state['query']}).content\n",
        "\n",
        "    return {\n",
        "          **state,\n",
        "          \"category\": category,\n",
        "      }\n",
        "\n",
        "\n",
        "def analyze_sentiment_tool(state: StateSupport) -> StateSupport:\n",
        "    sentiment_promt = ChatPromptTemplate.from_template(\n",
        "        \"Analyze the sentiment of the following customer query\"\n",
        "        \"Response with either 'Position', 'Neutral' , or 'Negative'. Query: {query}\"\n",
        "    )\n",
        "\n",
        "    sentiment_chain = RunnableSequence(sentiment_promt | model)\n",
        "    sentiment = sentiment_chain.invoke({'query' : state['query']}).content\n",
        "    return {\n",
        "        **state,\n",
        "        \"sentiment\": sentiment\n",
        "    }\n",
        "\n",
        "\n",
        "def technical_tool(state: StateSupport) -> StateSupport:\n",
        "    technical_prpmpt = ChatPromptTemplate.from_template(\n",
        "        \"Provide a technical support response to the following query : {query}\"\n",
        "    )\n",
        "\n",
        "    technical_chain = RunnableSequence(technical_prpmpt | model)\n",
        "    technical_response = technical_chain.invoke({\"query\" : state['query']}).content\n",
        "    return {\n",
        "        **state,\n",
        "        \"response\" : technical_response\n",
        "    }\n",
        "\n",
        "\n",
        "def billing_tool(state: StateSupport) -> StateSupport:\n",
        "    billing_prompt = ChatPromptTemplate.from_template(\n",
        "        \"Provide a billing support response to the following query : {query}\"\n",
        "    )\n",
        "    billing_chain = RunnableSequence(billing_prompt | model)\n",
        "    billing_response = billing_chain.invoke({\"query\" : state['query']}).content\n",
        "    return {\n",
        "        **state,\n",
        "        \"response\": billing_response\n",
        "    }\n",
        "\n",
        "\n",
        "def general_tool(state: StateSupport) -> StateSupport:\n",
        "    general_prompt = ChatPromptTemplate.from_template(\n",
        "        \"Provide a general support response to the following query : {query}\"\n",
        "    )\n",
        "    general_chain = RunnableSequence(general_prompt | model)\n",
        "    general_response = general_chain.invoke({\"query\" : state['query']}).content\n",
        "    return{\n",
        "        **state,\n",
        "        \"response\" : general_response\n",
        "    }\n",
        "\n",
        "\n",
        "def escalate(state: StateSupport) -> StateSupport:\n",
        "    return {\"response\": \"This query has been escalate to a human agent due to its negative sentiment\"}\n",
        "\n",
        "\n",
        "def router_query_tool(state : StateSupport) -> StateSupport:\n",
        "    if state['sentiment'].lower() == \"negative\":\n",
        "        return \"Escalate_Node\"\n",
        "    if state['category'].lower() == \"general\":\n",
        "        return \"General_Node\"\n",
        "    if state['category'].lower() == \"billing\":\n",
        "        return \"Billing_Node\"\n",
        "    if state['category'].lower() == \"technical\":\n",
        "        return \"Technical_Node\"\n",
        "\n",
        "\n",
        "\n",
        "graph = StateGraph(StateSupport)\n",
        "\n",
        "# create nodes\n",
        "graph.add_node('Categorize_Node', categorize_query_tool)\n",
        "graph.add_node('Sentiment_Node', analyze_sentiment_tool)\n",
        "graph.add_node('Technical_Node', technical_tool)\n",
        "graph.add_node('Billing_Node', billing_tool)\n",
        "graph.add_node('General_Node', general_tool)\n",
        "graph.add_node('Escalate_Node', escalate)\n",
        "\n",
        "# create entry node\n",
        "graph.set_entry_point('Categorize_Node')\n",
        "\n",
        "# create edges\n",
        "graph.add_edge('Categorize_Node', 'Sentiment_Node')\n",
        "\n",
        "graph.add_conditional_edges(\n",
        "    'Sentiment_Node',\n",
        "    router_query_tool,\n",
        "     {\n",
        "        'Technical_Node' : 'Technical_Node',\n",
        "        'Billing_Node' : 'Billing_Node',\n",
        "        'General_Node' : 'General_Node',\n",
        "        'Escalate_Node' : 'Escalate_Node'\n",
        "    }\n",
        ")\n",
        "\n",
        "graph.add_edge('Technical_Node', END)\n",
        "graph.add_edge('Billing_Node', END)\n",
        "graph.add_edge('General_Node', END)\n",
        "graph.add_edge('Escalate_Node', END)\n",
        "\n",
        "\n",
        "app = graph.compile()\n",
        "\n",
        "\n",
        "# Function to simulate AI response (Replace with actual API call)\n",
        "def run_agent(query: str) -> Dict[str, str]:\n",
        "    \"\"\"Invoke the AI agent and return structured results.\"\"\"\n",
        "    try:\n",
        "        response = app.invoke({'query': query})\n",
        "        return {\n",
        "            \"query\": response.get(\"query\", \"\"),\n",
        "            \"category\": response.get(\"category\", \"Unknown\"),\n",
        "            \"sentiment\": response.get(\"sentiment\", \"Neutral\"),\n",
        "            \"response\": response.get(\"response\", \"No response available.\"),\n",
        "        }\n",
        "    except Exception as e:\n",
        "        return {\n",
        "            \"query\": query,\n",
        "            \"category\": \"Error\",\n",
        "            \"sentiment\": \"Error\",\n",
        "            \"response\": f\"An error occurred: {str(e)}\",\n",
        "        }\n",
        "\n",
        "# 🎨 Streamlit Page Configuration\n",
        "st.set_page_config(\n",
        "    page_title=\"AI Customer Support Assistant\",\n",
        "    page_icon=\"🤖\",\n",
        "    layout=\"centered\"\n",
        ")\n",
        "\n",
        "# 💡 Custom CSS for Better Visibility\n",
        "st.markdown(\"\"\"\n",
        "    <style>\n",
        "        /* Style the response box */\n",
        "        .response-box {\n",
        "            border-left: 5px solid #f39c12;\n",
        "            padding: 15px;\n",
        "            background-color: #2d2d2d; /* Dark mode friendly */\n",
        "            border-radius: 8px;\n",
        "            color: white; /* Ensure text is readable */\n",
        "            font-size: 16px;\n",
        "            margin-top: 20px;\n",
        "        }\n",
        "        /* Make headings more readable */\n",
        "        .response-box p {\n",
        "            margin: 5px 0;\n",
        "        }\n",
        "        .response-box strong {\n",
        "            color: #f39c12;\n",
        "        }\n",
        "        /* Improve button appearance */\n",
        "        .stButton button {\n",
        "            background-color: #f39c12 !important;\n",
        "            color: white !important;\n",
        "            font-size: 16px !important;\n",
        "            border-radius: 8px !important;\n",
        "        }\n",
        "    </style>\n",
        "\"\"\", unsafe_allow_html=True)\n",
        "\n",
        "# 🏷 Title & Instructions\n",
        "st.title(\"🛠 AI Customer Support Assistant\")\n",
        "st.markdown(\"\"\"\n",
        "🔹 Enter your query below, and the AI assistant will:\n",
        "- Categorize your request (Technical, Billing, General, etc.)\n",
        "- Analyze the sentiment (Positive, Negative, Neutral)\n",
        "- Provide a response based on its analysis\n",
        "\"\"\")\n",
        "\n",
        "# 📌 User Input\n",
        "query = st.text_area(\"Enter your support query:\", height=100)\n",
        "\n",
        "if st.button(\"Submit\"):\n",
        "    if query.strip():\n",
        "        # Process the query\n",
        "        result = run_agent(query)\n",
        "\n",
        "        # 🎯 Display Results with Updated Styling\n",
        "        st.markdown(f\"\"\"\n",
        "        <div class=\"response-box\">\n",
        "            <p><strong>🗂 Category:</strong> {result['category']}</p>\n",
        "            <p><strong>📊 Sentiment:</strong> {result['sentiment']}</p>\n",
        "            <p><strong>💬 Response:</strong> {result['response']}</p>\n",
        "        </div>\n",
        "        \"\"\", unsafe_allow_html=True)\n",
        "    else:\n",
        "        st.warning(\"⚠️ Please enter a query before submitting.\")\n"
      ],
      "metadata": {
        "colab": {
          "base_uri": "https://localhost:8080/"
        },
        "id": "AoJNV7DwjhEz",
        "outputId": "ad76292b-0f88-4330-f38a-5e4ff8810d9e"
      },
      "execution_count": 3,
      "outputs": [
        {
          "output_type": "stream",
          "name": "stdout",
          "text": [
            "Overwriting app.py\n"
          ]
        }
      ]
    },
    {
      "cell_type": "code",
      "source": [
        "# !npm install localtunnel"
      ],
      "metadata": {
        "id": "80Z05oZqnE-M"
      },
      "execution_count": 4,
      "outputs": []
    },
    {
      "cell_type": "code",
      "source": [
        "!streamlit run app.py &>/content/logs.txt & npx localtunnel --port 8501 & curl ipv4.icanhazip.com"
      ],
      "metadata": {
        "colab": {
          "base_uri": "https://localhost:8080/"
        },
        "id": "WVPw9neOmaNY",
        "outputId": "23fd3b88-4f9b-4c5f-ff99-a0f21f3d85c8"
      },
      "execution_count": 5,
      "outputs": [
        {
          "output_type": "stream",
          "name": "stdout",
          "text": [
            "35.247.121.234\n",
            "\u001b[1G\u001b[0K⠙\u001b[1G\u001b[0K⠹\u001b[1G\u001b[0Kyour url is: https://shiny-rocks-press.loca.lt\n"
          ]
        }
      ]
    },
    {
      "cell_type": "code",
      "source": [],
      "metadata": {
        "id": "wKvflJBFmivA"
      },
      "execution_count": null,
      "outputs": []
    }
  ],
  "metadata": {
    "colab": {
      "provenance": []
    },
    "kernelspec": {
      "display_name": "Python 3",
      "name": "python3"
    },
    "language_info": {
      "name": "python"
    }
  },
  "nbformat": 4,
  "nbformat_minor": 0
}