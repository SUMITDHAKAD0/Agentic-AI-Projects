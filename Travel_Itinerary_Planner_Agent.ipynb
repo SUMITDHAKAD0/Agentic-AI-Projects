{
  "nbformat": 4,
  "nbformat_minor": 0,
  "metadata": {
    "colab": {
      "provenance": []
    },
    "kernelspec": {
      "name": "python3",
      "display_name": "Python 3"
    },
    "language_info": {
      "name": "python"
    }
  },
  "cells": [
    {
      "cell_type": "code",
      "execution_count": 2,
      "metadata": {
        "id": "FHeJCtQBGxah"
      },
      "outputs": [],
      "source": [
        "!pip install -q langchain langchain_core langchain-google-genai langchain_community langgraph"
      ]
    },
    {
      "cell_type": "markdown",
      "source": [
        "### Import Liberary"
      ],
      "metadata": {
        "id": "CQeF47crHRPr"
      }
    },
    {
      "cell_type": "code",
      "source": [
        "\n",
        "import os\n",
        "from typing import TypedDict, Annotated, List\n",
        "from langgraph.graph import StateGraph, END\n",
        "from langchain_core.messages import HumanMessage, AIMessage\n",
        "from langchain_core.prompts import ChatPromptTemplate\n",
        "from langchain_core.runnables.graph import MermaidDrawMethod\n",
        "\n",
        "\n",
        "from langchain_google_genai import ChatGoogleGenerativeAI\n",
        "from langchain_google_genai.embeddings import GoogleGenerativeAIEmbeddings\n",
        "\n",
        "from IPython.display import display, Image, Markdown"
      ],
      "metadata": {
        "id": "REYRhLNlHLA2"
      },
      "execution_count": 20,
      "outputs": []
    },
    {
      "cell_type": "code",
      "source": [
        "from google.colab import userdata\n",
        "os.environ[\"GOOGLE_API_KEY\"] = userdata.get('GOOGLE_API_KEY')"
      ],
      "metadata": {
        "id": "23gwwUoTJEZ_"
      },
      "execution_count": 13,
      "outputs": []
    },
    {
      "cell_type": "code",
      "source": [
        "def load_gemini_embedding():\n",
        "        try:\n",
        "            embedding = GoogleGenerativeAIEmbeddings(\n",
        "                            model=\"models/text-embedding-004\",\n",
        "                            task_type=\"retrieval_document\"\n",
        "                        )\n",
        "            print('Gemini Embedding successfully loaded')\n",
        "            return embedding\n",
        "        except Exception as e:\n",
        "            print(f'Error Gemini Embedding: {str(e)}')\n",
        "            raise\n",
        "\n",
        "def load_gemini_model():\n",
        "    try:\n",
        "        model = ChatGoogleGenerativeAI(model=\"gemini-1.5-flash\",\n",
        "                            temperature=0.1,\n",
        "                            # convert_system_message_to_human=True,\n",
        "                            max_tokens=512,\n",
        "                            timeout=None,\n",
        "                            max_retries=2,\n",
        "                            top_k=90,\n",
        "                            top_p=0.5\n",
        "                        )\n",
        "        print('Gemini Model successfully loaded')\n",
        "        return model\n",
        "    except Exception as e:\n",
        "        print(f'Error loading Gemini Model: {str(e)}')\n",
        "        raise\n"
      ],
      "metadata": {
        "id": "OwFNL5ShHwsW"
      },
      "execution_count": 14,
      "outputs": []
    },
    {
      "cell_type": "code",
      "source": [
        "embedding = load_gemini_embedding()\n",
        "model = load_gemini_model()"
      ],
      "metadata": {
        "colab": {
          "base_uri": "https://localhost:8080/"
        },
        "id": "lpdmH296IQvE",
        "outputId": "6530598e-ec54-4a7d-f9e6-4a6a569a523c"
      },
      "execution_count": 15,
      "outputs": [
        {
          "output_type": "stream",
          "name": "stdout",
          "text": [
            "Gemini Embedding successfully loaded\n",
            "Gemini Model successfully loaded\n"
          ]
        }
      ]
    },
    {
      "cell_type": "code",
      "source": [
        "ai_response = model.invoke('wgat is agents')\n",
        "Markdown(ai_response.content)"
      ],
      "metadata": {
        "colab": {
          "base_uri": "https://localhost:8080/",
          "height": 273
        },
        "id": "RqJZ35GFIcXM",
        "outputId": "4fb5c75f-133e-4d6c-b2bc-0b1f42dac6c2"
      },
      "execution_count": 22,
      "outputs": [
        {
          "output_type": "execute_result",
          "data": {
            "text/plain": [
              "<IPython.core.display.Markdown object>"
            ],
            "text/markdown": "The term \"agents\" has many meanings depending on the context.  Here are a few possibilities:\n\n* **In artificial intelligence (AI):** An agent is a computer program or system that perceives its environment and takes actions to maximize its chances of successfully achieving its goals.  This is a broad definition encompassing everything from simple rule-based systems to complex machine learning models.  Examples include game-playing AI, robotic control systems, and chatbots.\n\n* **In software engineering:** An agent can refer to a software component that acts on behalf of a user or another program.  This might involve tasks like monitoring system performance, managing resources, or interacting with other systems.\n\n* **In business and economics:** An agent is a person who acts on behalf of another person or organization.  This could be a real estate agent, a travel agent, or a representative of a company.\n\n* **In law:** An agent is a person authorized to act on behalf of another person or entity, with the power to bind the principal to contracts or other obligations.\n\n* **In biology:** An agent can refer to a biological entity that causes a particular effect, such as an infectious agent (a virus or bacterium).\n\n\nTo understand what \"agents\" means, you need to consider the context in which the word is used.  Could you provide more information about where you encountered this term?  Knowing the context will help me give you a more precise and helpful answer."
          },
          "metadata": {},
          "execution_count": 22
        }
      ]
    },
    {
      "cell_type": "markdown",
      "source": [
        "## Creating Graph and respective tools"
      ],
      "metadata": {
        "id": "yPyqO0GmJzXz"
      }
    },
    {
      "cell_type": "code",
      "source": [
        "class StatePlanner(TypedDict):\n",
        "    messages : Annotated[List[HumanMessage | AIMessage], \"the messages in the conversation\"]\n",
        "    city: str\n",
        "    interests: List[str]\n",
        "    itinerary: str"
      ],
      "metadata": {
        "id": "qHxlkM5xIkJi"
      },
      "execution_count": 39,
      "outputs": []
    },
    {
      "cell_type": "code",
      "source": [
        "# Test data\n",
        "test_data: StatePlanner = {\n",
        "    \"messages\": [\n",
        "        HumanMessage(content=\"I'm planning a trip to Paris. Any recommendations?\"),\n",
        "        AIMessage(content=\"Sure! What are your interests?\"),\n",
        "        HumanMessage(content=\"I love museums and food tours.\"),\n",
        "        AIMessage(content=\"Great! I can suggest some museums and local food experiences.\"),\n",
        "    ],\n",
        "    \"city\": \"Paris\",\n",
        "    \"interests\": [\"museums\", \"food tours\"],\n",
        "    \"itinerary\": \"Day 1: Visit the Louvre, followed by a Seine river cruise. Day 2: Explore Montmartre and enjoy a local food tour.\"\n",
        "}\n",
        "\n",
        "\n",
        "StatePlanner(test_data)"
      ],
      "metadata": {
        "colab": {
          "base_uri": "https://localhost:8080/"
        },
        "id": "nNP0miqEKHM6",
        "outputId": "080c98a9-d0a7-4266-9e12-b3e51376b09b"
      },
      "execution_count": 40,
      "outputs": [
        {
          "output_type": "execute_result",
          "data": {
            "text/plain": [
              "{'messages': [HumanMessage(content=\"I'm planning a trip to Paris. Any recommendations?\", additional_kwargs={}, response_metadata={}),\n",
              "  AIMessage(content='Sure! What are your interests?', additional_kwargs={}, response_metadata={}),\n",
              "  HumanMessage(content='I love museums and food tours.', additional_kwargs={}, response_metadata={}),\n",
              "  AIMessage(content='Great! I can suggest some museums and local food experiences.', additional_kwargs={}, response_metadata={})],\n",
              " 'city': 'Paris',\n",
              " 'interests': ['museums', 'food tours'],\n",
              " 'itinerary': 'Day 1: Visit the Louvre, followed by a Seine river cruise. Day 2: Explore Montmartre and enjoy a local food tour.'}"
            ]
          },
          "metadata": {},
          "execution_count": 40
        }
      ]
    },
    {
      "cell_type": "code",
      "source": [
        "# Itinerary prompt\n",
        "itinerary_prompt = ChatPromptTemplate.from_messages([\n",
        "    (\"system\", \"You are a knowledgeable and friendly travel assistant. Create a personalized and engaging day trip itinerary for {city} based on the user's interests: {interests}. Include key attractions, dining recommendations, and unique experiences. Make it concise yet informative.\"),\n",
        "    (\"human\", \"Can you provide a well-structured itinerary for my day trip, considering my preferences?\")\n",
        "])\n",
        "\n",
        "\n",
        "\n",
        "# itinerary_prompt = ChatPromptTemplate.from_messages([\n",
        "#     (\"system\", \"You are a helpful travel assistant. Create a day trip itinerary for {city} based on the user's interests: {interests}. Provide a brief, bulleted itinerary.\"),\n",
        "#     (\"human\", \"Create an itinerary for my day trip.\"),\n",
        "# ])"
      ],
      "metadata": {
        "id": "j7zHWDKpLPoc"
      },
      "execution_count": 41,
      "outputs": []
    },
    {
      "cell_type": "markdown",
      "source": [
        "Define Tools for Agent"
      ],
      "metadata": {
        "id": "xJjz6X1ROwRU"
      }
    },
    {
      "cell_type": "code",
      "source": [
        "def input_city(state: StatePlanner) -> StatePlanner:\n",
        "  print(\"Please enter the city you want to visit for your day trip: \")\n",
        "  user_message = input(\"User Input: \")\n",
        "  return {\n",
        "      **state,\n",
        "      \"city\": user_message,\n",
        "      \"messages\": state['messages'] + [HumanMessage(content=user_message)]\n",
        "  }\n",
        "\n",
        "def input_interest(state: StatePlanner) -> StatePlanner:\n",
        "  print(f\"Please enter your interest for the trip to : {state['city']} (comma-separted): \")\n",
        "  user_message = input(\"User Input: \")\n",
        "  return {\n",
        "      **state,\n",
        "      \"interests\": [interest.strip() for interest in user_message.split(\",\")],\n",
        "      \"messages\": state['messages'] + [HumanMessage(content=user_message)]\n",
        "  }\n",
        "\n",
        "\n",
        "def create_itinerary(state: StatePlanner) -> StatePlanner:\n",
        "  print(f\"Creating an itinerary for {state['city']} based on interests : {', '.join(state['interests'])}\")\n",
        "  response = model.invoke(itinerary_prompt.format_messages(city = state['city'], interests = ','.join(state['interests'])))\n",
        "  print(\"\\nFinal Itinerary: \")\n",
        "  print(response.content)\n",
        "  return {\n",
        "      **state,\n",
        "      \"messages\": state['messages'] + [AIMessage(content=response.content)],\n",
        "      \"itinerary\" : response.content,\n",
        "  }"
      ],
      "metadata": {
        "id": "ws6tlt8ROsud"
      },
      "execution_count": 42,
      "outputs": []
    },
    {
      "cell_type": "markdown",
      "source": [
        "Create Graph"
      ],
      "metadata": {
        "id": "qgLCgh1TQZFs"
      }
    },
    {
      "cell_type": "code",
      "source": [
        "\n",
        "workflow = StateGraph(StatePlanner)\n",
        "\n",
        "workflow.add_node(\"input_city\", input_city)\n",
        "workflow.add_node(\"input_interest\", input_interest)\n",
        "workflow.add_node(\"create_itinerary\", create_itinerary)\n",
        "\n",
        "workflow.set_entry_point(\"input_city\")\n",
        "\n",
        "workflow.add_edge(\"input_city\", \"input_interest\")\n",
        "workflow.add_edge(\"input_interest\", \"create_itinerary\")\n",
        "workflow.add_edge(\"create_itinerary\", END)\n",
        "\n",
        "app = workflow.compile()"
      ],
      "metadata": {
        "id": "KrxxHeA0QUy4"
      },
      "execution_count": 43,
      "outputs": []
    },
    {
      "cell_type": "code",
      "source": [
        "display(\n",
        "    Image(\n",
        "        app.get_graph().draw_mermaid_png(\n",
        "            draw_method = MermaidDrawMethod.API\n",
        "        )\n",
        "    )\n",
        ")"
      ],
      "metadata": {
        "colab": {
          "base_uri": "https://localhost:8080/",
          "height": 449
        },
        "id": "WlVKUUo4QkFn",
        "outputId": "58880764-17bb-4359-f0d7-3afaf47c9ab3"
      },
      "execution_count": 44,
      "outputs": [
        {
          "output_type": "display_data",
          "data": {
            "image/png": "[encoded data removed]",
            "text/plain": [
              "<IPython.core.display.Image object>"
            ]
          },
          "metadata": {}
        }
      ]
    },
    {
      "cell_type": "markdown",
      "source": [
        "### Run the app"
      ],
      "metadata": {
        "id": "V37v5IBWQzdp"
      }
    },
    {
      "cell_type": "code",
      "source": [
        "\n",
        "def travel_planner(user_request: str):\n",
        "  print(f\"Initial Request: {user_request}\\n\")\n",
        "  state = {\n",
        "      \"messages\": [HumanMessage(content=user_request)],\n",
        "      \"city\": \"\",\n",
        "      \"interests\": [],\n",
        "      \"itinerary\": \"\",\n",
        "  }\n",
        "  for output in app.stream(state):\n",
        "    pass"
      ],
      "metadata": {
        "id": "oIdbIcgWQnuH"
      },
      "execution_count": 62,
      "outputs": []
    },
    {
      "cell_type": "code",
      "source": [
        "\n",
        "user_request = \"I want to plan a day trip\"\n",
        "travel_planner(user_request)"
      ],
      "metadata": {
        "colab": {
          "base_uri": "https://localhost:8080/"
        },
        "id": "aPveW2jOQ2w_",
        "outputId": "47411205-7ae7-4c85-cfc4-68cde7ed4889"
      },
      "execution_count": 63,
      "outputs": [
        {
          "output_type": "stream",
          "name": "stdout",
          "text": [
            "Initial Request: I want to plan a day trip\n",
            "\n",
            "Please enter the city you want to visit for your day trip: \n",
            "User Input: mumbai\n",
            "Please enter your interest for the trip to : mumbai (comma-separted): \n",
            "User Input: meeting with client\n",
            "Creating an itinerary for mumbai based on interests : meeting with client\n",
            "\n",
            "Final Itinerary: \n",
            "Please tell me more about your day trip! To create the best itinerary for you, I need some information:\n",
            "\n",
            "* **What is the purpose of your trip?** (e.g., sightseeing, business meeting, relaxation)\n",
            "* **What are your interests?** (e.g., history, food, art, nightlife)\n",
            "* **What is your budget?** (e.g., luxury, mid-range, budget-friendly)\n",
            "* **How much time do you have?** (e.g., a full day, half a day)\n",
            "* **Where will you be staying?** (This helps me suggest convenient transportation options.)\n",
            "* **Do you have any accessibility needs?**\n",
            "\n",
            "Once I have this information, I can create a personalized itinerary for your Mumbai day trip.\n"
          ]
        }
      ]
    },
    {
      "cell_type": "code",
      "source": [
        "ans = app.invoke({\n",
        "      \"messages\": [HumanMessage(content=user_request)],\n",
        "      \"city\": \"\",\n",
        "      \"interests\": [],\n",
        "      \"itinerary\": \"\",\n",
        "  })"
      ],
      "metadata": {
        "colab": {
          "base_uri": "https://localhost:8080/"
        },
        "id": "oy2BQcPfQ63-",
        "outputId": "be7937cb-2647-40c3-c705-208f0bb45515"
      },
      "execution_count": 64,
      "outputs": [
        {
          "output_type": "stream",
          "name": "stdout",
          "text": [
            "Please enter the city you want to visit for your day trip: \n",
            "User Input: mumbai\n",
            "Please enter your interest for the trip to : mumbai (comma-separted): \n",
            "User Input: clent meeting\n",
            "Creating an itinerary for mumbai based on interests : clent meeting\n",
            "\n",
            "Final Itinerary: \n",
            "Please tell me more about your day trip! To create the best itinerary for you, I need some information:\n",
            "\n",
            "* **What is the purpose of your trip?** (e.g., sightseeing, business, relaxation)\n",
            "* **What are your interests?** (e.g., history, food, art, nightlife, shopping)\n",
            "* **What is your budget?** (e.g., luxury, mid-range, budget)\n",
            "* **How much time do you have?** (e.g., a full day, half a day)\n",
            "* **Where will you be staying?** (This helps me suggest convenient transportation options.)\n",
            "\n",
            "\n",
            "Once I have this information, I can create a personalized itinerary for your Mumbai day trip.\n"
          ]
        }
      ]
    },
    {
      "cell_type": "code",
      "source": [
        "ans['messages']"
      ],
      "metadata": {
        "colab": {
          "base_uri": "https://localhost:8080/"
        },
        "id": "5-bXcWZARSoN",
        "outputId": "c7a18cb6-2048-4353-a94e-e70714f9e730"
      },
      "execution_count": 52,
      "outputs": [
        {
          "output_type": "execute_result",
          "data": {
            "text/plain": [
              "[HumanMessage(content='I want to plan a day trip', additional_kwargs={}, response_metadata={}),\n",
              " HumanMessage(content='mumbai', additional_kwargs={}, response_metadata={}),\n",
              " HumanMessage(content='beach', additional_kwargs={}, response_metadata={}),\n",
              " AIMessage(content=\"Please tell me your interests!  To create the best itinerary for your Mumbai day trip, I need to know what you'd like to see and do.  For example, are you interested in history, food, beaches, nightlife, shopping, or something else?\", additional_kwargs={}, response_metadata={})]"
            ]
          },
          "metadata": {},
          "execution_count": 52
        }
      ]
    },
    {
      "cell_type": "code",
      "source": [
        "ans['city'], ans['interests']"
      ],
      "metadata": {
        "colab": {
          "base_uri": "https://localhost:8080/"
        },
        "id": "cWVed34NVWrJ",
        "outputId": "b0cb4ab2-3a5c-417e-f9bd-6455e09094ab"
      },
      "execution_count": 54,
      "outputs": [
        {
          "output_type": "execute_result",
          "data": {
            "text/plain": [
              "('mumbai', ['beach'])"
            ]
          },
          "metadata": {},
          "execution_count": 54
        }
      ]
    },
    {
      "cell_type": "code",
      "source": [
        "ans['itinerary']"
      ],
      "metadata": {
        "colab": {
          "base_uri": "https://localhost:8080/",
          "height": 54
        },
        "id": "SDm9JexqV4CQ",
        "outputId": "375d87c2-1966-48e6-ff3f-abe14b4a903e"
      },
      "execution_count": 55,
      "outputs": [
        {
          "output_type": "execute_result",
          "data": {
            "text/plain": [
              "\"Please tell me your interests!  To create the best itinerary for your Mumbai day trip, I need to know what you'd like to see and do.  For example, are you interested in history, food, beaches, nightlife, shopping, or something else?\""
            ],
            "application/vnd.google.colaboratory.intrinsic+json": {
              "type": "string"
            }
          },
          "metadata": {},
          "execution_count": 55
        }
      ]
    },
    {
      "cell_type": "markdown",
      "source": [
        "## Gradio App without StateGraph"
      ],
      "metadata": {
        "id": "ufqfc0_noZxx"
      }
    },
    {
      "cell_type": "code",
      "source": [
        "!pip install -q gradio"
      ],
      "metadata": {
        "colab": {
          "base_uri": "https://localhost:8080/"
        },
        "id": "m7h8sB0pofio",
        "outputId": "3c023c35-44e7-423b-e355-37717725742f"
      },
      "execution_count": 57,
      "outputs": [
        {
          "output_type": "stream",
          "name": "stdout",
          "text": [
            "\u001b[2K   \u001b[90m━━━━━━━━━━━━━━━━━━━━━━━━━━━━━━━━━━━━━━━━\u001b[0m \u001b[32m57.8/57.8 MB\u001b[0m \u001b[31m10.5 MB/s\u001b[0m eta \u001b[36m0:00:00\u001b[0m\n",
            "\u001b[2K   \u001b[90m━━━━━━━━━━━━━━━━━━━━━━━━━━━━━━━━━━━━━━━━\u001b[0m \u001b[32m321.9/321.9 kB\u001b[0m \u001b[31m23.9 MB/s\u001b[0m eta \u001b[36m0:00:00\u001b[0m\n",
            "\u001b[2K   \u001b[90m━━━━━━━━━━━━━━━━━━━━━━━━━━━━━━━━━━━━━━━━\u001b[0m \u001b[32m94.8/94.8 kB\u001b[0m \u001b[31m8.5 MB/s\u001b[0m eta \u001b[36m0:00:00\u001b[0m\n",
            "\u001b[2K   \u001b[90m━━━━━━━━━━━━━━━━━━━━━━━━━━━━━━━━━━━━━━━━\u001b[0m \u001b[32m12.4/12.4 MB\u001b[0m \u001b[31m98.4 MB/s\u001b[0m eta \u001b[36m0:00:00\u001b[0m\n",
            "\u001b[2K   \u001b[90m━━━━━━━━━━━━━━━━━━━━━━━━━━━━━━━━━━━━━━━━\u001b[0m \u001b[32m71.5/71.5 kB\u001b[0m \u001b[31m6.8 MB/s\u001b[0m eta \u001b[36m0:00:00\u001b[0m\n",
            "\u001b[2K   \u001b[90m━━━━━━━━━━━━━━━━━━━━━━━━━━━━━━━━━━━━━━━━\u001b[0m \u001b[32m62.3/62.3 kB\u001b[0m \u001b[31m5.4 MB/s\u001b[0m eta \u001b[36m0:00:00\u001b[0m\n",
            "\u001b[?25h"
          ]
        }
      ]
    },
    {
      "cell_type": "markdown",
      "source": [],
      "metadata": {
        "id": "wAudYRRgDXMY"
      }
    },
    {
      "cell_type": "code",
      "source": [
        "\n",
        "import gradio as gr\n",
        "from typing import TypedDict, Annotated, List\n",
        "from langgraph.graph import StateGraph, END\n",
        "from langchain_core.messages import HumanMessage, AIMessage\n",
        "from langchain_core.prompts import ChatPromptTemplate\n",
        "from langchain_google_genai import ChatGoogleGenerativeAI\n",
        "\n",
        "class StatePlanner(TypedDict):\n",
        "    messages: Annotated[List[HumanMessage | AIMessage], \"The messages in the conversation\"]\n",
        "    city: str\n",
        "    interests: List[str]\n",
        "    itinerary: str\n",
        "\n",
        "# Define the LLM\n",
        "model = ChatGoogleGenerativeAI(model=\"gemini-1.5-flash\",\n",
        "                temperature=0.1,\n",
        "                # convert_system_message_to_human=True,\n",
        "                max_tokens=512,\n",
        "                timeout=None,\n",
        "                max_retries=2,\n",
        "                top_k=90,\n",
        "                top_p=0.5\n",
        "              )\n",
        "\n",
        "# Define the itinerary prompt\n",
        "# Itinerary prompt\n",
        "itinerary_prompt = ChatPromptTemplate.from_messages([\n",
        "    (\"system\", \"You are a knowledgeable and friendly travel assistant. Create a personalized and engaging day trip itinerary for {city} based on the user's interests: {interests}. Include key attractions, dining recommendations, and unique experiences. Make it concise yet informative.\"),\n",
        "    (\"human\", \"Can you provide a well-structured itinerary for my day trip, considering my preferences?\")\n",
        "])\n",
        "\n",
        "def input_city(city: str, state: StatePlanner) -> StatePlanner:\n",
        "    return {\n",
        "        **state,\n",
        "        \"city\": city,\n",
        "        \"messages\": state['messages'] + [HumanMessage(content=city)],\n",
        "    }\n",
        "\n",
        "def input_interests(interests: str, state: StatePlanner) -> StatePlanner:\n",
        "    return {\n",
        "        **state,\n",
        "        \"interests\": [interest.strip() for interest in interests.split(',')],\n",
        "        \"messages\": state['messages'] + [HumanMessage(content=interests)],\n",
        "    }\n",
        "\n",
        "def create_itinerary(state: StatePlanner) -> str:\n",
        "    response = model.invoke(itinerary_prompt.format_messages(city=state['city'], interests=\", \".join(state['interests'])))\n",
        "    state[\"itinerary\"] = response.content\n",
        "    state[\"messages\"] += [AIMessage(content=response.content)]\n",
        "    return response.content\n",
        "\n",
        "# Define the Gradio application\n",
        "def travel_planner(city: str, interests: str):\n",
        "    # Initialize state\n",
        "    state = {\n",
        "        \"messages\": [],\n",
        "        \"city\": \"\",\n",
        "        \"interests\": [],\n",
        "        \"itinerary\": \"\",\n",
        "    }\n",
        "\n",
        "    # Process the city and interests inputs\n",
        "    state = input_city(city, state)\n",
        "    state = input_interests(interests, state)\n",
        "\n",
        "    # Generate the itinerary\n",
        "    itinerary = create_itinerary(state)\n",
        "\n",
        "    return itinerary\n",
        "\n",
        "# Build the Gradio interface\n",
        "interface = gr.Interface(\n",
        "    fn=travel_planner,\n",
        "    theme='Yntec/HaleyCH_Theme_Orange_Green',\n",
        "    inputs=[\n",
        "        gr.Textbox(label=\"Enter the city for your day trip\"),\n",
        "        gr.Textbox(label=\"Enter your interests (comma-separated)\"),\n",
        "    ],\n",
        "    outputs=gr.Textbox(label=\"Generated Itinerary\"),\n",
        "    title=\"Travel Itinerary Planner\",\n",
        "    description=\"Enter a city and your interests to generate a personalized day trip itinerary.\"\n",
        ")\n",
        "\n",
        "# Launch the Gradio application\n",
        "interface.launch()"
      ],
      "metadata": {
        "colab": {
          "base_uri": "https://localhost:8080/",
          "height": 650
        },
        "id": "pGH58u7yWDBn",
        "outputId": "689489d1-90d4-4eda-9e16-a51199c9e226"
      },
      "execution_count": 61,
      "outputs": [
        {
          "output_type": "stream",
          "name": "stdout",
          "text": [
            "Running Gradio in a Colab notebook requires sharing enabled. Automatically setting `share=True` (you can turn this off by setting `share=False` in `launch()` explicitly).\n",
            "\n",
            "Colab notebook detected. To show errors in colab notebook, set debug=True in launch()\n",
            "* Running on public URL: https://22b5526a21335e6e6c.gradio.live\n",
            "\n",
            "This share link expires in 72 hours. For free permanent hosting and GPU upgrades, run `gradio deploy` from the terminal in the working directory to deploy to Hugging Face Spaces (https://huggingface.co/spaces)\n"
          ]
        },
        {
          "output_type": "display_data",
          "data": {
            "text/plain": [
              "<IPython.core.display.HTML object>"
            ],
            "text/html": [
              "<div><iframe src=\"https://22b5526a21335e6e6c.gradio.live\" width=\"100%\" height=\"500\" allow=\"autoplay; camera; microphone; clipboard-read; clipboard-write;\" frameborder=\"0\" allowfullscreen></iframe></div>"
            ]
          },
          "metadata": {}
        },
        {
          "output_type": "execute_result",
          "data": {
            "text/plain": []
          },
          "metadata": {},
          "execution_count": 61
        }
      ]
    },
    {
      "cell_type": "code",
      "source": [
        "interface.close()"
      ],
      "metadata": {
        "colab": {
          "base_uri": "https://localhost:8080/"
        },
        "id": "kuxMalSeodKu",
        "outputId": "5acc26b6-1b0b-4bc9-ada4-129805a4e7df"
      },
      "execution_count": 60,
      "outputs": [
        {
          "output_type": "stream",
          "name": "stdout",
          "text": [
            "Closing server running on port: 7860\n"
          ]
        }
      ]
    },
    {
      "cell_type": "code",
      "source": [],
      "metadata": {
        "id": "z2zQoN4Oqsqh"
      },
      "execution_count": null,
      "outputs": []
    },
    {
      "cell_type": "markdown",
      "source": [
        "## Gradio App with StateGraph"
      ],
      "metadata": {
        "id": "67wGMQ81DcsT"
      }
    },
    {
      "cell_type": "code",
      "source": [],
      "metadata": {
        "id": "5q6fLAefDeN1"
      },
      "execution_count": 71,
      "outputs": []
    },
    {
      "cell_type": "code",
      "source": [
        "import gradio as gr\n",
        "from typing import TypedDict, Annotated, List\n",
        "from langgraph.graph import StateGraph, END\n",
        "from langchain_core.messages import HumanMessage, AIMessage\n",
        "from langchain_core.prompts import ChatPromptTemplate\n",
        "from langchain_google_genai import ChatGoogleGenerativeAI\n",
        "\n",
        "# Define the state for the graph\n",
        "class StatePlanner(TypedDict):\n",
        "    messages: Annotated[List[HumanMessage | AIMessage], \"The messages in the conversation\"]\n",
        "    city: str\n",
        "    interests: List[str]\n",
        "    itinerary: str\n",
        "\n",
        "# Define the LLM\n",
        "model = ChatGoogleGenerativeAI(model=\"gemini-1.5-flash\",\n",
        "                temperature=0.1,\n",
        "                max_tokens=512,\n",
        "                timeout=None,\n",
        "                max_retries=2,\n",
        "                top_k=90,\n",
        "                top_p=0.5\n",
        "              )\n",
        "\n",
        "# Itinerary prompt\n",
        "itinerary_prompt = ChatPromptTemplate.from_messages([\n",
        "    (\"system\", \"You are a knowledgeable and friendly travel assistant. Create a personalized and engaging day trip itinerary for {city} based on the user's interests: {interests}. Include key attractions, dining recommendations, and unique experiences. Make it concise yet informative.\"),\n",
        "    (\"human\", \"Can you provide a well-structured itinerary for my day trip, considering my preferences?\")\n",
        "])\n",
        "\n",
        "# Function to process city input (Fix: Only takes `state`)\n",
        "def input_city(state: StatePlanner) -> StatePlanner:\n",
        "    city = state[\"city\"]  # Extract city from state\n",
        "    return {\n",
        "        **state,\n",
        "        \"messages\": state[\"messages\"] + [HumanMessage(content=city)],\n",
        "    }\n",
        "\n",
        "# Function to process interest input (Fix: Only takes `state`)\n",
        "def input_interests(state: StatePlanner) -> StatePlanner:\n",
        "    interests = state[\"interests\"]  # Extract interests from state\n",
        "    return {\n",
        "        **state,\n",
        "        \"messages\": state[\"messages\"] + [HumanMessage(content=\", \".join(interests))],\n",
        "    }\n",
        "\n",
        "# Function to generate itinerary (Fix: Only takes `state`)\n",
        "def create_itinerary(state: StatePlanner) -> StatePlanner:\n",
        "    response = model.invoke(itinerary_prompt.format_messages(city=state['city'], interests=\", \".join(state['interests'])))\n",
        "    state[\"itinerary\"] = response.content\n",
        "    state[\"messages\"] += [AIMessage(content=response.content)]\n",
        "    return state\n",
        "\n",
        "# Function to create the StateGraph workflow\n",
        "def create_stategraph_workflow():\n",
        "    # creating StateGraph\n",
        "    workflow = StateGraph(StatePlanner)\n",
        "\n",
        "    # creating nodes of graph\n",
        "    workflow.add_node(\"input_city\", input_city)\n",
        "    workflow.add_node(\"input_interest\", input_interests)\n",
        "    workflow.add_node(\"create_itinerary\", create_itinerary)\n",
        "\n",
        "    # creating connection between nodes\n",
        "    workflow.set_entry_point(\"input_city\")\n",
        "    workflow.add_edge(\"input_city\", \"input_interest\")\n",
        "    workflow.add_edge(\"input_interest\", \"create_itinerary\")\n",
        "    workflow.add_edge(\"create_itinerary\", END)\n",
        "\n",
        "    # compile the workflow\n",
        "    return workflow.compile()\n",
        "\n",
        "# Define the Gradio application function\n",
        "def travel_planner(city: str, interests: str):\n",
        "    state = {\n",
        "        \"messages\": [],\n",
        "        \"city\": city,   # Store city in state\n",
        "        \"interests\": [interest.strip() for interest in interests.split(',')],  # Store interests in state\n",
        "        \"itinerary\": \"\",\n",
        "    }\n",
        "\n",
        "    # invoke the graph\n",
        "    app = create_stategraph_workflow()\n",
        "    output_state = app.invoke(state)\n",
        "\n",
        "    return output_state[\"itinerary\"]  # Return the generated itinerary\n",
        "\n",
        "# Build the Gradio interface\n",
        "interface = gr.Interface(\n",
        "    fn=travel_planner,\n",
        "    theme='Yntec/HaleyCH_Theme_Orange_Green',\n",
        "    inputs=[\n",
        "        gr.Textbox(label=\"Enter the city for your day trip\"),\n",
        "        gr.Textbox(label=\"Enter your interests (comma-separated)\"),\n",
        "    ],\n",
        "    outputs=gr.Markdown(label=\"Generated Itinerary\"),  # ✅ Changed to Markdown\n",
        "    title=\"Travel Itinerary Planner\",\n",
        "    description=\"Enter a city and your interests to generate a personalized day trip itinerary.\"\n",
        ")\n",
        "\n",
        "# Launch the Gradio application\n",
        "interface.launch()\n"
      ],
      "metadata": {
        "colab": {
          "base_uri": "https://localhost:8080/",
          "height": 650
        },
        "id": "rEvsPRPlHOvx",
        "outputId": "9e0d96af-4a7f-48e4-ce0e-21d70c2afef4"
      },
      "execution_count": 78,
      "outputs": [
        {
          "output_type": "stream",
          "name": "stdout",
          "text": [
            "Running Gradio in a Colab notebook requires sharing enabled. Automatically setting `share=True` (you can turn this off by setting `share=False` in `launch()` explicitly).\n",
            "\n",
            "Colab notebook detected. To show errors in colab notebook, set debug=True in launch()\n",
            "* Running on public URL: https://ae4671af22c9cea425.gradio.live\n",
            "\n",
            "This share link expires in 72 hours. For free permanent hosting and GPU upgrades, run `gradio deploy` from the terminal in the working directory to deploy to Hugging Face Spaces (https://huggingface.co/spaces)\n"
          ]
        },
        {
          "output_type": "display_data",
          "data": {
            "text/plain": [
              "<IPython.core.display.HTML object>"
            ],
            "text/html": [
              "<div><iframe src=\"https://ae4671af22c9cea425.gradio.live\" width=\"100%\" height=\"500\" allow=\"autoplay; camera; microphone; clipboard-read; clipboard-write;\" frameborder=\"0\" allowfullscreen></iframe></div>"
            ]
          },
          "metadata": {}
        },
        {
          "output_type": "execute_result",
          "data": {
            "text/plain": []
          },
          "metadata": {},
          "execution_count": 78
        }
      ]
    },
    {
      "cell_type": "code",
      "source": [],
      "metadata": {
        "id": "r_DruvpIItEQ"
      },
      "execution_count": null,
      "outputs": []
    },
    {
      "cell_type": "code",
      "source": [],
      "metadata": {
        "id": "f4LXWMrOItBh"
      },
      "execution_count": null,
      "outputs": []
    },
    {
      "cell_type": "code",
      "source": [
        "# Test without Gradio\n",
        "\n",
        "ans = travel_planner('mumbai', 'meeting with client')"
      ],
      "metadata": {
        "id": "CLeL2TeJE1ly"
      },
      "execution_count": 76,
      "outputs": []
    },
    {
      "cell_type": "code",
      "source": [
        "Markdown(ans)"
      ],
      "metadata": {
        "colab": {
          "base_uri": "https://localhost:8080/",
          "height": 196
        },
        "id": "i7kl2ULRE_xZ",
        "outputId": "3e289d45-076c-481a-e313-259dd8290489"
      },
      "execution_count": 77,
      "outputs": [
        {
          "output_type": "execute_result",
          "data": {
            "text/plain": [
              "<IPython.core.display.Markdown object>"
            ],
            "text/markdown": "Okay, let's craft the perfect Mumbai day trip for you, focusing on efficiently meeting your client while still experiencing some of the city's charm.  To do this effectively, I need a little more information.  Please tell me:\n\n1. **Where is your client located?** (Specific address or area would be helpful)  This will help me optimize travel time.\n2. **What time does your meeting start and end?** This dictates the structure of the day.\n3. **What's your client's preferred style of meeting?** (Formal business meeting, informal lunch, etc.) This helps me suggest appropriate venues.\n4. **Do you have any time before or after the meeting for sightseeing?** Even a short window can be used effectively.\n5. **What's your preferred cuisine for lunch/dinner?** (Indian, International, etc.)\n\n\nOnce I have this information, I can create a truly personalized and efficient itinerary for your Mumbai day trip."
          },
          "metadata": {},
          "execution_count": 77
        }
      ]
    },
    {
      "cell_type": "code",
      "source": [],
      "metadata": {
        "id": "HRcwyBQxFA65"
      },
      "execution_count": null,
      "outputs": []
    }
  ]
}